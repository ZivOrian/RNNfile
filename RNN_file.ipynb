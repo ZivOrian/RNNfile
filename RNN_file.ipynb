{
 "cells": [
  {
   "cell_type": "code",
   "execution_count": 1,
   "metadata": {},
   "outputs": [],
   "source": [
    "import torch\n",
    "from torch import nn, optim, autograd as grad\n",
    "from torch.utils.data import DataLoader, random_split, dataset\n",
    "import matplotlib.pyplot as plt\n",
    "import pandas as pd\n",
    "import numpy as np\n",
    "import matplotlib.pyplot as plt"
   ]
  },
  {
   "cell_type": "code",
   "execution_count": 2,
   "metadata": {},
   "outputs": [],
   "source": [
    "Embed_dim = 300\n",
    "word_num = 10_000"
   ]
  },
  {
   "cell_type": "code",
   "execution_count": 3,
   "metadata": {},
   "outputs": [],
   "source": [
    "class Rnn(nn.Module):\n",
    "    def __init__(self):\n",
    "        super(Rnn, self).__init__()\n",
    "        self.embedding = nn.Embedding(embedding_dim=Embed_dim)\n",
    "        self.rnnL1 = nn.RNN(input_size=Embed_dim ,hidden_size=1024,nonlinearity= nn.Tanh())\n",
    "        self.linL2 = nn.Linear(1024,5)\n",
    "        # Wrong, you need to classify a number with the review text\n",
    "        \n",
    "    def forward(x,self):\n",
    "        x=self.rnnL1(x)\n",
    "        x=self.linL2(x)\n",
    "        x=nn.Softmax(x)\n",
    "        return(x)\n",
    "        \n"
   ]
  },
  {
   "cell_type": "markdown",
   "metadata": {},
   "source": [
    "Dataset call section"
   ]
  },
  {
   "cell_type": "code",
   "execution_count": null,
   "metadata": {},
   "outputs": [],
   "source": [
    "dir_path = r\"C:\\Users\\orian\\OneDrive\\שולחן העבודה\\Coding Files 2\\Datasets\"\n",
    "dataset = pd.read_csv(dir_path+r\"\\chat gpt reviews\\ChatGPT_Reviews.csv\")\n",
    "emb_dict = pd.read_csv(dir_path+r\"\\embedding dictionary\\dict(2).csv\")\n",
    "\n",
    "print(emb_dict.keys())\n",
    "\n",
    "\n",
    "part_ds = [dataset['Review'], dataset['Ratings']]\n",
    "train_len = round(len(part_ds)*0.9)\n",
    "train_ds_csv, test_ds_csv = random_split(\n",
    "    dataset=part_ds,lengths=[train_len, len(part_ds)-train_len])\n",
    "train_ds = DataLoader(train_ds_csv, shuffle= True)"
   ]
  },
  {
   "cell_type": "markdown",
   "metadata": {},
   "source": [
    "Embedding Section"
   ]
  },
  {
   "cell_type": "code",
   "execution_count": 6,
   "metadata": {},
   "outputs": [
    {
     "name": "stdout",
     "output_type": "stream",
     "text": [
      "tensor([[ 0.5054,  1.6409, -1.6848],\n",
      "        [-0.6513,  1.6585, -1.1578],\n",
      "        [-0.4684, -0.6496,  0.4903]], grad_fn=<EmbeddingBackward0>)\n"
     ]
    }
   ],
   "source": [
    "word_dict = emb_dict['word']\n",
    "word_dict = tuple(set(word_dict))\n",
    "word_to_index = {key: val for val, key in enumerate(word_dict)}  # Dictionary to map words to indices\n",
    "\n",
    "embedding_layer = nn.Embedding(len(word_to_index), Embed_dim)\n",
    "\n",
    "input_words = [\"eat\", \"shit\",\"motherfucker\"]\n",
    "input_indices = torch.LongTensor([word_to_index[word] for word in input_words])  # Convert words to indices\n",
    "\n",
    "embeddings = embedding_layer(input_indices)\n",
    "\n",
    "print(embeddings)"
   ]
  }
 ],
 "metadata": {
  "kernelspec": {
   "display_name": "Python 3",
   "language": "python",
   "name": "python3"
  },
  "language_info": {
   "codemirror_mode": {
    "name": "ipython",
    "version": 3
   },
   "file_extension": ".py",
   "mimetype": "text/x-python",
   "name": "python",
   "nbconvert_exporter": "python",
   "pygments_lexer": "ipython3",
   "version": "3.11.4"
  }
 },
 "nbformat": 4,
 "nbformat_minor": 2
}
