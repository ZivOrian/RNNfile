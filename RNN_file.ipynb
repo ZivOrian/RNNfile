{
 "cells": [
  {
   "cell_type": "code",
   "execution_count": 2,
   "metadata": {},
   "outputs": [],
   "source": [
    "import torch\n",
    "from torch import nn, optim, autograd as grad\n",
    "from torch.utils.data import DataLoader, random_split, dataset\n",
    "import matplotlib.pyplot as plt\n",
    "import pandas as pd\n",
    "import numpy as np\n",
    "import matplotlib.pyplot as plt"
   ]
  },
  {
   "cell_type": "code",
   "execution_count": 3,
   "metadata": {},
   "outputs": [],
   "source": [
    "Embed_dim = 300\n",
    "word_num = 10_000"
   ]
  },
  {
   "cell_type": "code",
   "execution_count": 7,
   "metadata": {},
   "outputs": [],
   "source": [
    "class Rnn(nn.Module):\n",
    "    def __init__(self):\n",
    "        super(Rnn, self).__init__()\n",
    "        self.embedding = nn.Embedding(embedding_dim=Embed_dim)\n",
    "        self.rnnL1 = nn.RNN(input_size=Embed_dim ,hidden_size=1024,nonlinearity= nn.Tanh())\n",
    "        self.linL2 = nn.Linear(1024,word_num)\n",
    "        \n",
    "    def forward(x,self):\n",
    "        x=self.rnnL1(x)\n",
    "        x=self.linL2(x)\n",
    "        x=nn.Softmax(x)\n",
    "        return(x)\n",
    "        \n"
   ]
  },
  {
   "cell_type": "markdown",
   "metadata": {},
   "source": [
    "Dataset call section"
   ]
  },
  {
   "cell_type": "code",
   "execution_count": null,
   "metadata": {},
   "outputs": [],
   "source": [
    "dir_path = r\"C:\\Users\\orian\\OneDrive\\שולחן העבודה\\Coding Files 2\\Datasets\\chat gpt reviews\"\n",
    "dataset = pd.read_csv(dir_path+r\"\\ChatGPT_Reviews.csv\")\n",
    "\n",
    "print(dataset.keys())\n",
    "\n",
    "\n",
    "part_ds = [dataset['Review'], dataset['Ratings']]\n",
    "train_len = round(len(part_ds)*0.9)\n",
    "train_ds_csv, test_ds_csv = random_split(\n",
    "    dataset=part_ds,lengths=[train_len, len(part_ds)-train_len])\n",
    "train_ds = DataLoader(train_ds_csv, shuffle= True)"
   ]
  }
 ],
 "metadata": {
  "kernelspec": {
   "display_name": "Python 3",
   "language": "python",
   "name": "python3"
  },
  "language_info": {
   "codemirror_mode": {
    "name": "ipython",
    "version": 3
   },
   "file_extension": ".py",
   "mimetype": "text/x-python",
   "name": "python",
   "nbconvert_exporter": "python",
   "pygments_lexer": "ipython3",
   "version": "3.11.4"
  }
 },
 "nbformat": 4,
 "nbformat_minor": 2
}
