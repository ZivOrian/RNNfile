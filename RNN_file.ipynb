{
 "cells": [
  {
   "cell_type": "code",
   "execution_count": 264,
   "metadata": {},
   "outputs": [],
   "source": [
    "import torch\n",
    "from torch import nn, optim, autograd as grad\n",
    "from torch.utils.data import DataLoader, random_split, dataset\n",
    "import matplotlib.pyplot as plt\n",
    "import pandas as pd\n",
    "import numpy as np\n",
    "import matplotlib.pyplot as plt\n",
    "import numpy as np\n",
    "from rnnutils import *"
   ]
  },
  {
   "cell_type": "code",
   "execution_count": 265,
   "metadata": {},
   "outputs": [],
   "source": [
    "Embed_dim = 300\n",
    "word_num = 10_000\n",
    "num_layers = 2\n",
    "batch_size = 64"
   ]
  },
  {
   "cell_type": "code",
   "execution_count": 266,
   "metadata": {},
   "outputs": [],
   "source": [
    "class Rnn(nn.Module):\n",
    "    \n",
    "    def __init__(self):\n",
    "        super(Rnn, self).__init__()\n",
    "        self.rnnL1 = nn.RNN(input_size=Embed_dim ,hidden_size=1024,\n",
    "            nonlinearity= 'tanh' ,num_layers=num_layers, batch_first= False)\n",
    "        self.linL2 = nn.Linear(1024,5)\n",
    "        self.relu = nn.ReLU()\n",
    "        \n",
    "    def forward(self,x):\n",
    "        x=self.rnnL1(x)\n",
    "        x=self.relu(self.linL2(x))\n",
    "        x=nn.Softmax(x)\n",
    "        \n",
    "        return(x)\n",
    "        "
   ]
  },
  {
   "cell_type": "markdown",
   "metadata": {},
   "source": [
    "Dataset call section"
   ]
  },
  {
   "cell_type": "code",
   "execution_count": 267,
   "metadata": {},
   "outputs": [
    {
     "name": "stdout",
     "output_type": "stream",
     "text": [
      "Index(['word'], dtype='object')\n"
     ]
    }
   ],
   "source": [
    "dir_path = r\"C:\\Users\\orian\\OneDrive\\שולחן העבודה\\Coding Files 2\\Datasets\"\n",
    "dataset = pd.read_csv(dir_path+r\"\\chat gpt reviews\\ChatGPT_Reviews.csv\")\n",
    "emb_dict = pd.read_csv(dir_path+r\"\\embedding dictionary\\dict(2).csv\")\n",
    "\n",
    "print(emb_dict.keys())\n",
    "\n",
    "# Create a dataset dictionary of reviews and ratings\n",
    "part_ds = [dataset['Review'], torch.tensor(dataset['Ratings'])]\n",
    "\n",
    "temp_part_ds = []\n",
    "# \n",
    "part_ds = list(zip(part_ds[0], part_ds[1]-1))\n",
    "\n",
    "train_len = round(len(part_ds)*0.9)\n",
    "train_ds_csv, test_ds_csv = random_split(\n",
    "    dataset=part_ds,lengths=[train_len, len(part_ds)-train_len])\n",
    "train_data = DataLoader(train_ds_csv, shuffle= True)"
   ]
  },
  {
   "cell_type": "markdown",
   "metadata": {},
   "source": [
    "Embedding Section"
   ]
  },
  {
   "cell_type": "code",
   "execution_count": 270,
   "metadata": {},
   "outputs": [
    {
     "ename": "AttributeError",
     "evalue": "'list' object has no attribute 'shape'",
     "output_type": "error",
     "traceback": [
      "\u001b[1;31m---------------------------------------------------------------------------\u001b[0m",
      "\u001b[1;31mAttributeError\u001b[0m                            Traceback (most recent call last)",
      "Cell \u001b[1;32mIn[270], line 25\u001b[0m\n\u001b[0;32m     23\u001b[0m tmp_random_input \u001b[38;5;241m=\u001b[39m \u001b[38;5;28mstr\u001b[39m(tmp_random_input)\u001b[38;5;241m.\u001b[39mstrip(\u001b[38;5;124m'\u001b[39m\u001b[38;5;124m()\u001b[39m\u001b[38;5;124m'\u001b[39m)\n\u001b[0;32m     24\u001b[0m tmp_random_input \u001b[38;5;241m=\u001b[39m tmp_random_input\u001b[38;5;241m.\u001b[39msplit(\u001b[38;5;124m'\u001b[39m\u001b[38;5;124m \u001b[39m\u001b[38;5;124m'\u001b[39m)\n\u001b[1;32m---> 25\u001b[0m \u001b[38;5;28mprint\u001b[39m(\u001b[43mtmp_random_input\u001b[49m\u001b[38;5;241;43m.\u001b[39;49m\u001b[43mshape\u001b[49m)\n\u001b[0;32m     27\u001b[0m input_indices \u001b[38;5;241m=\u001b[39m torch\u001b[38;5;241m.\u001b[39mLongTensor([word_to_index[word] \u001b[38;5;28;01mfor\u001b[39;00m word \u001b[38;5;129;01min\u001b[39;00m input_words])  \u001b[38;5;66;03m# Convert words to indices\u001b[39;00m\n\u001b[0;32m     28\u001b[0m embeddings \u001b[38;5;241m=\u001b[39m embedding_layer(input_indices)\n",
      "\u001b[1;31mAttributeError\u001b[0m: 'list' object has no attribute 'shape'"
     ]
    }
   ],
   "source": [
    "word_dict = emb_dict['word'].tolist()\n",
    "word_dict = set(word_dict)\n",
    "\n",
    "# Separate the words in the reviews and make sure they don't repeat themselves\n",
    "# (They are going to be added to the embeddings)\n",
    "review_set = {word for sentence in dataset['Review'].astype(str)\n",
    "               for word in sentence.split(' ')}\n",
    "\n",
    "combined_words = word_dict.union(review_set)\n",
    "\n",
    "# Dictionary to map words to indices\n",
    "word_to_index = {key: val for val, key in enumerate(combined_words)}\n",
    "embedding_layer = nn.Embedding(num_embeddings=len(word_to_index)\n",
    "                               , embedding_dim=Embed_dim)\n",
    "\n",
    "# Example of how to use the embedding layer that needs to be \n",
    "# deleted and moved to the feedforward section\n",
    "input_words = [\"suck\",\"the\",\"coconut\",\"juice\",\"out\",\"of\",\"the\",\"coconut\"]\n",
    "\n",
    "# Made to check if the embedding layer works for \n",
    "# the training dataset here - it does. See if it gets distorted further down the line\n",
    "tmp_random_input = list(train_data)[0][0]\n",
    "tmp_random_input = str(tmp_random_input).strip('()')\n",
    "tmp_random_input = tmp_random_input.split(' ')\n",
    "print(tmp_random_input.shape)\n",
    "\n",
    "input_indices = torch.LongTensor([word_to_index[word] for word in input_words])  # Convert words to indices\n",
    "embeddings = embedding_layer(input_indices)\n",
    "print(embeddings.shape)\n"
   ]
  },
  {
   "cell_type": "markdown",
   "metadata": {},
   "source": [
    "Single Epoch Training:"
   ]
  },
  {
   "cell_type": "code",
   "execution_count": null,
   "metadata": {},
   "outputs": [],
   "source": [
    "def train_one_epoch(rnn, train_ds, optimizer, dev, FILE_PATH, epoch_iter\n",
    "                 # Should add stuff that's required\n",
    "):\n",
    "    iter = 0\n",
    "\n",
    "    # Training loop part\n",
    "    for sample in train_ds:\n",
    "        rnn = rnn.to(dev) # Added due to errors (Should remain in the loop)\n",
    "        print(sample[0])\n",
    "        targetY = torch.nn.functional.one_hot(\n",
    "            torch.tensor(sample[1]), num_classes=5)\n",
    "        targetY = torch.tensor(targetY, dtype=torch.float32, requires_grad=True)\n",
    "        targetY = torch.squeeze(targetY).to(dev)\n",
    "        \n",
    "        # ---ForwardPropagation---\n",
    "        \n",
    "        embed_var = torch.LongTensor([word_to_index[word] for word in input_words])\n",
    "        print(embed_var.shape)\n",
    "        print(embed_var)\n",
    "        pred = rnn.forward(embed_var).to(dev)\n",
    "        loss_func = nn.CrossEntropyLoss()\n",
    "\n",
    "        # ---BackPropagation---\n",
    "        loss = loss_func(pred, targetY)\n",
    "        loss.backward()\n",
    "        optimizer.step()\n",
    "\n",
    "        if iter%100==0:\n",
    "            torch.save(rnn.cpu(), FILE_PATH)\n",
    "            grad_tmp = rnn.linL2.weight.grad\n",
    "            print(iter,\"({})\".format(epoch_iter+1), \" | \",grad_tmp.sum()**2/len(grad_tmp))\n",
    "\n",
    "        optimizer.zero_grad()\n",
    "        iter+=1\n",
    "    "
   ]
  },
  {
   "cell_type": "markdown",
   "metadata": {},
   "source": [
    "Main Section"
   ]
  },
  {
   "cell_type": "code",
   "execution_count": null,
   "metadata": {},
   "outputs": [],
   "source": [
    "if __name__ == \"__main__\":\n",
    "    if torch.cuda.is_available() : device = \"cuda:0\"\n",
    "    else : device = \"cpu\"\n",
    "    device = torch.device(device)\n",
    "        \n",
    "    rnn = Rnn().to(device)\n",
    "    train_one_epoch(rnn, train_data, optimizer=optim.Adam(rnn.parameters(), lr=0.001), dev=device, FILE_PATH=\"model.pth\", epoch_iter=0)\n",
    "    "
   ]
  }
 ],
 "metadata": {
  "kernelspec": {
   "display_name": "Python 3",
   "language": "python",
   "name": "python3"
  },
  "language_info": {
   "codemirror_mode": {
    "name": "ipython",
    "version": 3
   },
   "file_extension": ".py",
   "mimetype": "text/x-python",
   "name": "python",
   "nbconvert_exporter": "python",
   "pygments_lexer": "ipython3",
   "version": "3.11.4"
  }
 },
 "nbformat": 4,
 "nbformat_minor": 2
}
