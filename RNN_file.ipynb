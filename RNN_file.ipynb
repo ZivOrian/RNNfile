{
 "cells": [
  {
   "cell_type": "code",
   "execution_count": null,
   "metadata": {},
   "outputs": [],
   "source": [
    "import torch\n",
    "from torch import nn, optim, autograd as grad\n",
    "from torch.utils.data import DataLoader, random_split, dataset\n",
    "import matplotlib.pyplot as plt\n",
    "import pandas as pd\n",
    "import numpy as np\n",
    "from AddClass import *\n",
    "import time\n",
    "import os\n",
    "#import re"
   ]
  },
  {
   "cell_type": "code",
   "execution_count": null,
   "metadata": {},
   "outputs": [],
   "source": [
    "batch_size = 64\n",
    "n_work = 2\n",
    "start_time = time.time()\n",
    "print(np.__version__)"
   ]
  },
  {
   "cell_type": "markdown",
   "metadata": {},
   "source": [
    "Class initialization"
   ]
  },
  {
   "cell_type": "code",
   "execution_count": null,
   "metadata": {},
   "outputs": [],
   "source": [
    "\n",
    "        "
   ]
  },
  {
   "cell_type": "markdown",
   "metadata": {},
   "source": [
    "Dataset call section"
   ]
  },
  {
   "cell_type": "code",
   "execution_count": null,
   "metadata": {},
   "outputs": [],
   "source": [
    "dir_path = r\"C:\\Users\\orian\\OneDrive\\שולחן העבודה\\Coding Files 2\\Datasets\"\n",
    "dataset = pd.read_csv(dir_path+r\"\\chat gpt reviews\\ChatGPT_Reviews.csv\")\n",
    "emb_dict = pd.read_csv(dir_path+r\"\\embedding dictionary\\dict(2).csv\") # A dictionary of words to be embedded\n",
    "\n",
    "print(emb_dict.keys())\n",
    "\n",
    "# Create a dataset dictionary of reviews and ratings\n",
    "part_ds = [dataset['Review'], torch.tensor(dataset['Ratings'])]\n",
    "\n",
    "temp_part_ds = []\n",
    "# \n",
    "part_ds = list(zip(part_ds[0], part_ds[1]-1))\n",
    "\n",
    "train_len = round(len(part_ds)*0.9)\n",
    "train_ds_csv, test_ds_csv = random_split(\n",
    "    dataset=part_ds,lengths=[train_len, len(part_ds)-train_len])\n",
    "train_data = DataLoader(train_ds_csv, shuffle= True, \n",
    "                        num_workers= n_work, batch_size=batch_size)"
   ]
  },
  {
   "cell_type": "markdown",
   "metadata": {},
   "source": [
    "Embedding Section"
   ]
  },
  {
   "cell_type": "code",
   "execution_count": null,
   "metadata": {},
   "outputs": [],
   "source": [
    "word_dict = emb_dict['word'].tolist()\n",
    "word_dict = set(word_dict)\n",
    "\n",
    "# Separate the words in the reviews and make sure they don't repeat themselves\n",
    "# (They are going to be added to the embeddings)\n",
    "review_set = set(organize_text(dataset['Review'].astype(str)))\n",
    "\n",
    "print('10/10' in review_set)\n",
    "\n",
    "combined_words = word_dict.union(review_set)\n",
    "# Dictionary to map words to indices\n",
    "word_to_index = {key: val for val, key in enumerate(combined_words)}\n",
    "embedding_layer = nn.Embedding(num_embeddings=len(word_to_index)\n",
    "                               , embedding_dim=Embed_dim)"
   ]
  },
  {
   "cell_type": "markdown",
   "metadata": {},
   "source": [
    "Single Epoch Training:"
   ]
  },
  {
   "cell_type": "code",
   "execution_count": null,
   "metadata": {},
   "outputs": [],
   "source": [
    "def train_one_epoch(rnn, train_ds, optimizer, dev, FILE_PATH, epoch_iter\n",
    "                 # Should add stuff that's required\n",
    "):\n",
    "    iter = 0\n",
    "    rnn = rnn.to(dev)\n",
    "    grad_tmp = None # Initialize gradient measure\n",
    "    \n",
    "    # Training loop part\n",
    "    for batch in train_ds:\n",
    "        sample_x, sample_y = batch \n",
    "        loss = 0 # Reset loss for each batch\n",
    "        if(iter<7500):\n",
    "            for i in range(len(sample_x)): # Iterate over the batch\n",
    "\n",
    "                rnn = rnn.to(dev) # Added due to errors\n",
    "                # (The device probably resets each iteration for some reason should remain in the loop)\n",
    "                \n",
    "                # ---PreProcessing---\n",
    "                targetY = torch.nn.functional.one_hot(\n",
    "                    torch.tensor(sample_y[i]), num_classes=5)\n",
    "                targetY = torch.tensor(targetY, dtype=torch.float32, requires_grad=True)\n",
    "                targetY = torch.squeeze(targetY).to(dev)\n",
    "                \n",
    "\n",
    "                # Pre processing the input words to make sense out of them\n",
    "                input_words = tupleToArray(sample_x[i])\n",
    "                input_words = organize_text(input_words)\n",
    "\n",
    "                #Skipping problematic words\n",
    "                try:\n",
    "                    embed_var = torch.LongTensor([word_to_index[word] for word in input_words])\n",
    "                    embed_var = embedding_layer(embed_var).to(dev)\n",
    "                    \n",
    "                    # ---ForwardPropagation---\n",
    "                    tmp_fwd = rnn.forward(embed_var).to(dev)\n",
    "                    pred = tmp_fwd[len(tmp_fwd)-1].flatten().to(dev)\n",
    "                    \n",
    "                    loss_func = nn.CrossEntropyLoss()\n",
    "                    loss = loss + loss_func(pred, targetY)\n",
    "                    \n",
    "                except KeyError:\n",
    "                    pass\n",
    "\n",
    "                if iter%100==0:\n",
    "                    torch.save(rnn.cpu(), FILE_PATH)\n",
    "                    print(sample_x[i],\"- {} Stars\".format(sample_y[i].detach().numpy()+1))\n",
    "                    if grad_tmp != None:\n",
    "                        grad_tmp = grad_tmp.sum()**2/len(grad_tmp)\n",
    "\n",
    "                    print(iter,\"({})\".format(epoch_iter+1), \" | \",grad_tmp,\n",
    "                        \" | time elapsed: \", time.time() - start_time)\n",
    "\n",
    "                optimizer.zero_grad()\n",
    "                iter+=1\n",
    "            \n",
    "\n",
    "            # ---BackPropagation---\n",
    "            \n",
    "            torch.nn.utils.clip_grad_norm_(\n",
    "                parameters=rnn.parameters() ,max_norm=0.08) \n",
    "            # Look up a gradient clipping tutorial\n",
    "            loss.backward()\n",
    "            optimizer.step()\n",
    "            grad_tmp = rnn.rnnL2.weight_ih.grad\n",
    "    \n",
    "    # Renaming the file at the end of the epoch training so it doesn't get overwritten\n",
    "    torch.save(rnn.cpu(), \"comeplete_model.pth\")\n",
    "    "
   ]
  },
  {
   "cell_type": "markdown",
   "metadata": {},
   "source": [
    "Main Section"
   ]
  },
  {
   "cell_type": "code",
   "execution_count": null,
   "metadata": {},
   "outputs": [],
   "source": [
    "if __name__ == \"__main__\":\n",
    "    if torch.cuda.is_available() : device = \"cuda:0\"\n",
    "    else : device = \"cpu\"\n",
    "    device = torch.device(device)\n",
    "        \n",
    "    rnn = Rnn().to(device)\n",
    "    optimizer = optim.Adam(rnn.parameters(), lr=0.001,\n",
    "                           weight_decay=5e-4, amsgrad=True)\n",
    "    start_time = time.time() #Reset start time\n",
    "    for epoch in range(1):  # You can set the number of epochs as needed\n",
    "        train_one_epoch(rnn, train_data, optimizer=optimizer, dev=device, FILE_PATH=\"model.pth\", epoch_iter=epoch)\n",
    "    "
   ]
  },
  {
   "cell_type": "markdown",
   "metadata": {},
   "source": [
    "Test Section  **Run locally to not reset the parameters*"
   ]
  },
  {
   "cell_type": "code",
   "execution_count": null,
   "metadata": {},
   "outputs": [],
   "source": [
    "\n",
    "\n",
    "rnn_test = torch.load(\"comeplete_model.pth\")\n",
    "review = \"In the beginning, it worked well; however, when I tried to use it a couple of days ago, the following message appeared every time I wrote anything: An error has occured. Please try again later.\"\n",
    "review = tupleToArray(review)\n",
    "review = organize_text(review)\n",
    "\n",
    "embed_var = torch.LongTensor([word_to_index[word] for word in review])\n",
    "embed_var = embedding_layer(embed_var)\n",
    "prediction = rnn_test.forward(embed_var)\n",
    "\n",
    "print(\"Prediction: \", prediction)"
   ]
  }
 ],
 "metadata": {
  "kernelspec": {
   "display_name": "Python 3",
   "language": "python",
   "name": "python3"
  },
  "language_info": {
   "codemirror_mode": {
    "name": "ipython",
    "version": 3
   },
   "file_extension": ".py",
   "mimetype": "text/x-python",
   "name": "python",
   "nbconvert_exporter": "python",
   "pygments_lexer": "ipython3",
   "version": "3.11.4"
  }
 },
 "nbformat": 4,
 "nbformat_minor": 2
}
